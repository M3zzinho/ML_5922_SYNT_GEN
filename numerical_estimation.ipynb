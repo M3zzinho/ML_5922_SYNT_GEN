{
 "cells": [
  {
   "attachments": {},
   "cell_type": "markdown",
   "metadata": {},
   "source": [
    "# Optimal Tradin Rules - Numerical Determination"
   ]
  },
  {
   "cell_type": "code",
   "execution_count": 20,
   "metadata": {},
   "outputs": [],
   "source": [
    "import numpy as np\n",
    "import pandas as pd\n",
    "from IPython.display import display, Latex, Markdown\n",
    "import yfinance as yf\n",
    "\n",
    "def print_md(x):\n",
    "    display(Markdown(str(x)))\n",
    "\n",
    "def fecho_tr(lista):\n",
    "\treturn np.concatenate(lista, axis=None).tolist()"
   ]
  },
  {
   "cell_type": "code",
   "execution_count": 5,
   "metadata": {},
   "outputs": [
    {
     "name": "stdout",
     "output_type": "stream",
     "text": [
      "[*********************100%***********************]  2 of 2 completed\n"
     ]
    }
   ],
   "source": [
    "# # download data from yahoo finance\n",
    "# data = yf.download(\"SPY AAPL\", start=\"2017-01-01\", end=\"2017-04-30\")"
   ]
  },
  {
   "cell_type": "code",
   "execution_count": 9,
   "metadata": {},
   "outputs": [],
   "source": [
    "# aapl = data['Adj Close']['AAPL']"
   ]
  },
  {
   "cell_type": "code",
   "execution_count": 26,
   "metadata": {},
   "outputs": [],
   "source": [
    "T = 12\n",
    "I = 12\n",
    "\n",
    "P = {i:{t: np.random.normal(0,1) for t in range(int(T))} for i in range(int(I))}"
   ]
  },
  {
   "cell_type": "code",
   "execution_count": 27,
   "metadata": {},
   "outputs": [],
   "source": [
    "E_0P = {i: {t: np.random.normal(0,1) for t in range(int(T))} for i in range(int(I))}"
   ]
  },
  {
   "cell_type": "code",
   "execution_count": 28,
   "metadata": {},
   "outputs": [],
   "source": [
    "T_ind = {i: i for i in range(int(I))}"
   ]
  },
  {
   "attachments": {},
   "cell_type": "markdown",
   "metadata": {},
   "source": [
    "## Step 1\n",
    "We estimate the input parameters $\\{\\sigma, \\varphi\\}$ as:\n",
    "$$\n",
    "\\underbrace{P_{i, t}}_{\\mathbf Y}=\\underbrace{\\mathrm{E}_0\\left[P_{i, T_i}\\right]}_{\\mathbf Z}+\\varphi\\underbrace{\\left(P_{i, t-1}-\\mathrm{E}_0\\left[P_{i, T_i}\\right]\\right)}_{\\mathbf X}+\\xi_t\n",
    "$$\n"
   ]
  },
  {
   "cell_type": "code",
   "execution_count": 44,
   "metadata": {},
   "outputs": [],
   "source": [
    "X = pd.Series(fecho_tr([\n",
    "    [P[i][t] - E_0P[i][T_ind[i]] \n",
    "     for t in range(int(T))] \n",
    "     for i in range(int(I))]\n",
    "))"
   ]
  },
  {
   "cell_type": "code",
   "execution_count": 45,
   "metadata": {},
   "outputs": [],
   "source": [
    "Y = pd.Series(fecho_tr([list(x.values()) for x in list(P.values())]))\n",
    "Z = pd.Series(fecho_tr([list(x.values()) for x in list(E_0P.values())]))"
   ]
  },
  {
   "attachments": {},
   "cell_type": "markdown",
   "metadata": {},
   "source": [
    "Apply the OLS method to estimate $\\sigma$ and $\\varphi$:"
   ]
  },
  {
   "cell_type": "code",
   "execution_count": 48,
   "metadata": {},
   "outputs": [],
   "source": [
    "from sklearn.linear_model import LinearRegression\n"
   ]
  },
  {
   "cell_type": "code",
   "execution_count": 74,
   "metadata": {},
   "outputs": [],
   "source": [
    "# X_feat = pd.DataFrame({'X':X})\n",
    "# y = Y-Z\n",
    "\n",
    "# reg = LinearRegression(fit_intercept = False, penalty=None).fit(X_feat, y)"
   ]
  },
  {
   "cell_type": "code",
   "execution_count": 61,
   "metadata": {},
   "outputs": [],
   "source": [
    "phi_hat = reg.coef_[0]"
   ]
  },
  {
   "cell_type": "code",
   "execution_count": 69,
   "metadata": {},
   "outputs": [],
   "source": [
    "norm = lambda x: np.sqrt(np.sum(pd.to_numeric(x)**2))\n",
    "\n",
    "cos = lambda x,y : np.dot(x,y)/(norm(x)*norm(y))\n",
    "\n",
    "cov = lambda x,y : np.dot(x,y)/norm(y)"
   ]
  },
  {
   "cell_type": "code",
   "execution_count": 77,
   "metadata": {},
   "outputs": [],
   "source": [
    "phi_hat = cov(Y,X)/cov(X,X)\n",
    "xi_hat = Y-Z-phi_hat*X\n",
    "sigma_hat = np.sqrt(cov(xi_hat, xi_hat))"
   ]
  },
  {
   "cell_type": "code",
   "execution_count": 79,
   "metadata": {},
   "outputs": [
    {
     "data": {
      "text/markdown": [
       "\n",
       "$$\\hat\\varphi = 0.5922522943471566 \\quad \\quad\n",
       "\\hat\\sigma = 3.802569027327373$$\n"
      ],
      "text/plain": [
       "<IPython.core.display.Markdown object>"
      ]
     },
     "metadata": {},
     "output_type": "display_data"
    }
   ],
   "source": [
    "print_md(f'''\n",
    "$$\\\\hat\\\\varphi = {phi_hat} \\\\quad \\\\quad\n",
    "\\\\hat\\\\sigma = {sigma_hat}$$\n",
    "''')"
   ]
  },
  {
   "attachments": {},
   "cell_type": "markdown",
   "metadata": {},
   "source": [
    "# Step 2\n",
    "We construct a mesh of stop-loss and profit-taking pairs, $(\\underline{\\pi}, \\bar{\\pi})$. For example, a Cartesian product of $\\underline{\\pi}=\\left\\{-\\frac{1}{2} \\sigma,-\\sigma, \\ldots,-10 \\sigma\\right\\}$ and $\\bar{\\pi}=$ $\\left\\{\\frac{1}{2} \\sigma, \\sigma, \\ldots, 10 \\sigma\\right\\}$ give us $20 \\times 20$ nodes, each constituting an alternative trading rule $R \\in \\Omega$.\n"
   ]
  },
  {
   "cell_type": "code",
   "execution_count": 80,
   "metadata": {},
   "outputs": [
    {
     "data": {
      "text/html": [
       "<div>\n",
       "<style scoped>\n",
       "    .dataframe tbody tr th:only-of-type {\n",
       "        vertical-align: middle;\n",
       "    }\n",
       "\n",
       "    .dataframe tbody tr th {\n",
       "        vertical-align: top;\n",
       "    }\n",
       "\n",
       "    .dataframe thead th {\n",
       "        text-align: right;\n",
       "    }\n",
       "</style>\n",
       "<table border=\"1\" class=\"dataframe\">\n",
       "  <thead>\n",
       "    <tr style=\"text-align: right;\">\n",
       "      <th></th>\n",
       "      <th>0</th>\n",
       "      <th>1</th>\n",
       "    </tr>\n",
       "  </thead>\n",
       "  <tbody>\n",
       "    <tr>\n",
       "      <th>0</th>\n",
       "      <td>-1.901285</td>\n",
       "      <td>1.901285</td>\n",
       "    </tr>\n",
       "    <tr>\n",
       "      <th>1</th>\n",
       "      <td>-1.901285</td>\n",
       "      <td>3.802569</td>\n",
       "    </tr>\n",
       "    <tr>\n",
       "      <th>2</th>\n",
       "      <td>-1.901285</td>\n",
       "      <td>5.703854</td>\n",
       "    </tr>\n",
       "    <tr>\n",
       "      <th>3</th>\n",
       "      <td>-1.901285</td>\n",
       "      <td>7.605138</td>\n",
       "    </tr>\n",
       "    <tr>\n",
       "      <th>4</th>\n",
       "      <td>-1.901285</td>\n",
       "      <td>9.506423</td>\n",
       "    </tr>\n",
       "    <tr>\n",
       "      <th>...</th>\n",
       "      <td>...</td>\n",
       "      <td>...</td>\n",
       "    </tr>\n",
       "    <tr>\n",
       "      <th>395</th>\n",
       "      <td>-38.025690</td>\n",
       "      <td>30.420552</td>\n",
       "    </tr>\n",
       "    <tr>\n",
       "      <th>396</th>\n",
       "      <td>-38.025690</td>\n",
       "      <td>32.321837</td>\n",
       "    </tr>\n",
       "    <tr>\n",
       "      <th>397</th>\n",
       "      <td>-38.025690</td>\n",
       "      <td>34.223121</td>\n",
       "    </tr>\n",
       "    <tr>\n",
       "      <th>398</th>\n",
       "      <td>-38.025690</td>\n",
       "      <td>36.124406</td>\n",
       "    </tr>\n",
       "    <tr>\n",
       "      <th>399</th>\n",
       "      <td>-38.025690</td>\n",
       "      <td>38.025690</td>\n",
       "    </tr>\n",
       "  </tbody>\n",
       "</table>\n",
       "<p>400 rows × 2 columns</p>\n",
       "</div>"
      ],
      "text/plain": [
       "             0          1\n",
       "0    -1.901285   1.901285\n",
       "1    -1.901285   3.802569\n",
       "2    -1.901285   5.703854\n",
       "3    -1.901285   7.605138\n",
       "4    -1.901285   9.506423\n",
       "..         ...        ...\n",
       "395 -38.025690  30.420552\n",
       "396 -38.025690  32.321837\n",
       "397 -38.025690  34.223121\n",
       "398 -38.025690  36.124406\n",
       "399 -38.025690  38.025690\n",
       "\n",
       "[400 rows x 2 columns]"
      ]
     },
     "execution_count": 80,
     "metadata": {},
     "output_type": "execute_result"
    }
   ],
   "source": [
    "# Define the stop-loss and profit-taking levels\n",
    "stop_loss_levels = np.linspace(-0.5, -10, num=20) * sigma_hat\n",
    "profit_taking_levels = np.linspace(0.5, 10, num=20) * sigma_hat\n",
    "\n",
    "# Generate the mesh of stop-loss and profit-taking pairs\n",
    "stop_loss_profit_taking_pairs = np.array(np.meshgrid(stop_loss_levels, profit_taking_levels)).T.reshape(-1, 2)\n",
    "\n",
    "# Print the pairs\n",
    "pd.DataFrame(stop_loss_profit_taking_pairs)"
   ]
  }
 ],
 "metadata": {
  "kernelspec": {
   "display_name": "Python 3",
   "language": "python",
   "name": "python3"
  },
  "language_info": {
   "codemirror_mode": {
    "name": "ipython",
    "version": 3
   },
   "file_extension": ".py",
   "mimetype": "text/x-python",
   "name": "python",
   "nbconvert_exporter": "python",
   "pygments_lexer": "ipython3",
   "version": "3.10.11"
  },
  "orig_nbformat": 4
 },
 "nbformat": 4,
 "nbformat_minor": 2
}
